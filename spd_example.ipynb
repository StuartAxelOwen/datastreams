{
 "metadata": {
  "name": "",
  "signature": "sha256:ba1f0d98b743138b8aebdb66ca6ed8c363fbb0c9669f1673dd4d43c064bfb734"
 },
 "nbformat": 3,
 "nbformat_minor": 0,
 "worksheets": [
  {
   "cells": [
    {
     "cell_type": "code",
     "collapsed": false,
     "input": [
      "import requests\n",
      "import json\n",
      "from pprint import pprint\n",
      "from collections import defaultdict\n",
      "from datastreams import *\n",
      "from dictstreams import *\n",
      "\n",
      "apptoken = open('/home/stuart/Projects/datastream/res/spd_socrata.key').read().strip()\n",
      "\n",
      "api_query = 'https://data.seattle.gov/resource/3k2p-39jp.json?$limit={}&$offset={}&$$app_token=' + apptoken\n",
      "batchsize = 1000\n",
      "\n",
      "def fetch_police_stats():\n",
      "    offset = 0\n",
      "    results = json.loads(requests.get(api_query.format(batchsize, offset)).content)\n",
      "    for result in results:\n",
      "        yield result\n",
      "    while len(results) > 999:\n",
      "        offset += batchsize\n",
      "        results = json.loads(requests.get(api_query.format(batchsize, offset)).content)\n",
      "        for result in results:\n",
      "            yield result\n"
     ],
     "language": "python",
     "metadata": {},
     "outputs": [],
     "prompt_number": 1
    },
    {
     "cell_type": "code",
     "collapsed": false,
     "input": [
      "spddata = DictStream(fetch_police_stats())"
     ],
     "language": "python",
     "metadata": {},
     "outputs": [],
     "prompt_number": 2
    },
    {
     "cell_type": "code",
     "collapsed": false,
     "input": [
      "data = spddata.take(5000).collect()"
     ],
     "language": "python",
     "metadata": {},
     "outputs": [],
     "prompt_number": 3
    },
    {
     "cell_type": "code",
     "collapsed": false,
     "input": [
      "data.take(1)"
     ],
     "language": "python",
     "metadata": {},
     "outputs": [
      {
       "metadata": {},
       "output_type": "pyout",
       "prompt_number": 4,
       "text": [
        "[{u'hundred_block_location': u'3XX BLOCK OF PINE ST', u'district_sector': u'M', u'event_clearance_code': u'242', u'cad_cdw_id': u'\\ufeff15736', u'event_clearance_date': u'2010-07-17T20:49:00', u'event_clearance_description': u'FIGHT DISTURBANCE', u'zone_beat': u'M2', u'event_clearance_subgroup': u'DISTURBANCES', u'longitude': u'-122.338146748', u'cad_event_number': u'10000246357', u'incident_location': {u'latitude': u'47.610975163', u'needs_recoding': False, u'longitude': u'-122.338146748'}, u'census_tract': u'8100.2001', u'latitude': u'47.610975163', u'general_offense_number': u'2010246357', u'event_clearance_group': u'DISTURBANCES'}]"
       ]
      }
     ],
     "prompt_number": 4
    },
    {
     "cell_type": "code",
     "collapsed": false,
     "input": [
      "from datetime import datetime\n",
      "\n",
      "class Location(object):\n",
      "    def __init__(self, general_offense_number, latitude, longitude):\n",
      "        self.general_offense_number = general_offense_number\n",
      "        self.latitude = latitude\n",
      "        self.longitude = longitude\n",
      "    def __repr__(self):\n",
      "        return '<Location {}>'.format(self.__dict__)\n",
      "        \n",
      "class Event(object):\n",
      "    def __init__(self, general_offense_number, clearance_group, clearance_description, clearance_time):\n",
      "        self.general_offense_number = general_offense_number\n",
      "        self.clearance_group = clearance_group\n",
      "        self.clearance_description = clearance_description\n",
      "        self.clearance_time = datetime.strptime(clearance_time, \"%Y-%m-%dT%H:%M:%S\")\n",
      "    def getdesc(self):\n",
      "        return self.clearance_description\n",
      "    def __repr__(self):\n",
      "        return '<Event {}>'.format(self.__dict__)\n",
      "\n",
      "locations = DataSet(data.map(lambda row: Location(row['general_offense_number'], row['latitude'], row['longitude'])))\n",
      "events = DataSet(data.map(lambda row: Event(row['general_offense_number'], \n",
      "                                            row['event_clearance_group'], \n",
      "                                            row['event_clearance_description'],\n",
      "                                            row['event_clearance_date'])))\n",
      "events.take(1)"
     ],
     "language": "python",
     "metadata": {},
     "outputs": [
      {
       "metadata": {},
       "output_type": "pyout",
       "prompt_number": 5,
       "text": [
        "[<Event {'clearance_description': u'FIGHT DISTURBANCE', 'clearance_group': u'DISTURBANCES', 'general_offense_number': u'2010246357', 'clearance_time': datetime.datetime(2010, 7, 17, 20, 49)}>]"
       ]
      }
     ],
     "prompt_number": 5
    },
    {
     "cell_type": "code",
     "collapsed": false,
     "input": [
      "eventlocs = events.join(locations, 'general_offense_number')\n",
      "eventlocs.take(1)"
     ],
     "language": "python",
     "metadata": {},
     "outputs": [
      {
       "metadata": {},
       "output_type": "pyout",
       "prompt_number": 7,
       "text": [
        "[<EventLocation {'right': <Location {'latitude': u'47.610975163', 'general_offense_number': u'2010246357', 'longitude': u'-122.338146748'}>, 'left': <Event {'clearance_description': u'FIGHT DISTURBANCE', 'clearance_group': u'DISTURBANCES', 'general_offense_number': u'2010246357', 'clearance_time': datetime.datetime(2010, 7, 17, 20, 49)}>}>]"
       ]
      }
     ],
     "prompt_number": 7
    },
    {
     "cell_type": "code",
     "collapsed": false,
     "input": [
      "eventlocs.filter(lambda eventloc: 'disturbance' in eventloc.event_clearance_group.lower()).take(5)"
     ],
     "language": "python",
     "metadata": {},
     "outputs": [
      {
       "metadata": {},
       "output_type": "pyout",
       "prompt_number": 8,
       "text": [
        "[<datastreams.JoinedOjbect object at 0x7fd89f549990>, <datastreams.JoinedOjbect object at 0x7fd89f549c50>, <datastreams.JoinedOjbect object at 0x7fd89f549e50>, <datastreams.JoinedOjbect object at 0x7fd89f549e90>, <datastreams.JoinedOjbect object at 0x7fd89f549ed0>]"
       ]
      }
     ],
     "prompt_number": 8
    },
    {
     "cell_type": "code",
     "collapsed": false,
     "input": [
      "# count the number of different events that happen\n",
      "DictStream(data\\\n",
      "    .filter(lambda row: '17th' in row['hundred_block_location'].lower()))\\\n",
      "    .groupby('event_clearance_group', lambda count, event: count + 1, 0)\n"
     ],
     "language": "python",
     "metadata": {},
     "outputs": [
      {
       "metadata": {},
       "output_type": "pyout",
       "prompt_number": 6,
       "text": [
        "{u'ACCIDENT INVESTIGATION': 28,\n",
        " u'ANIMAL COMPLAINTS': 1,\n",
        " u'ARREST': 7,\n",
        " u'ASSAULTS': 15,\n",
        " u'AUTO THEFTS': 11,\n",
        " u'BIKE': 1,\n",
        " u'BURGLARY': 30,\n",
        " u'CAR PROWL': 24,\n",
        " u'DISTURBANCES': 115,\n",
        " u'FAILURE TO REGISTER (SEX OFFENDER)': 1,\n",
        " u'FALSE ALARMS': 18,\n",
        " u'FRAUD CALLS': 17,\n",
        " u'HAZARDS': 2,\n",
        " u'LEWD CONDUCT': 2,\n",
        " u'LIQUOR VIOLATIONS': 16,\n",
        " u'MENTAL HEALTH': 22,\n",
        " u'NARCOTICS COMPLAINTS': 4,\n",
        " u'NUISANCE, MISCHIEF ': 6,\n",
        " u'OTHER PROPERTY': 20,\n",
        " u'PERSON DOWN/INJURY': 7,\n",
        " u'PERSONS - LOST, FOUND, MISSING': 6,\n",
        " u'PROPERTY - MISSING, FOUND': 4,\n",
        " u'PROPERTY DAMAGE': 16,\n",
        " u'PROSTITUTION': 1,\n",
        " u'PROWLER': 1,\n",
        " u'ROBBERY': 2,\n",
        " u'SHOPLIFTING': 1,\n",
        " u'SUSPICIOUS CIRCUMSTANCES': 105,\n",
        " u'THREATS, HARASSMENT': 11,\n",
        " u'TRAFFIC RELATED CALLS': 104,\n",
        " u'TRESPASS': 7,\n",
        " u'WEAPONS CALLS': 2}"
       ]
      }
     ],
     "prompt_number": 6
    },
    {
     "cell_type": "code",
     "collapsed": false,
     "input": [
      "len(data) * len(str(data[0]))"
     ],
     "language": "python",
     "metadata": {},
     "outputs": [
      {
       "metadata": {},
       "output_type": "pyout",
       "prompt_number": 19,
       "text": [
        "64100000"
       ]
      }
     ],
     "prompt_number": 19
    },
    {
     "cell_type": "code",
     "collapsed": false,
     "input": [],
     "language": "python",
     "metadata": {},
     "outputs": [
      {
       "metadata": {},
       "output_type": "pyout",
       "prompt_number": 20,
       "text": [
        "100000"
       ]
      }
     ],
     "prompt_number": 20
    },
    {
     "cell_type": "code",
     "collapsed": false,
     "input": [],
     "language": "python",
     "metadata": {},
     "outputs": []
    }
   ],
   "metadata": {}
  }
 ]
}